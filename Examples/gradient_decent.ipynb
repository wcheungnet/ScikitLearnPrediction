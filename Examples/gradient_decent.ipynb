{
 "cells": [
  {
   "cell_type": "code",
   "execution_count": 1,
   "metadata": {},
   "outputs": [
    {
     "name": "stdout",
     "output_type": "stream",
     "text": [
      "Requirement already satisfied: numpy in /anaconda3/lib/python3.7/site-packages (1.15.1)\r\n"
     ]
    }
   ],
   "source": [
    "!pip install numpy"
   ]
  },
  {
   "cell_type": "code",
   "execution_count": 2,
   "metadata": {},
   "outputs": [],
   "source": [
    "from numpy import *\n",
    "\n",
    "def compute_error_for_given_point(b,m, points):\n",
    "    totalError = 0\n",
    "    for i in range(0, len(points)):\n",
    "        x = points[i,0]\n",
    "        y = points[i,1]\n",
    "        totalError += (y - (m*x + b)) **2 \n",
    "    \n",
    "    return totalError/float(len(points))\n",
    "\n",
    "\n",
    "def step_gradient(b_current, m_current, points, learnRate):\n",
    "    \n",
    "    b_gradient = 0\n",
    "    m_gradient = 0\n",
    "    N = float(len(points))\n",
    "    for i in range(0, len(points)):\n",
    "        x = points[i,0]\n",
    "        y = points[i,1]\n",
    "        b_gradient += -(2/N) * (y - ((m_current * x) + b_current))\n",
    "        m_gradient += -(2/N) * x * (y - ((m_current * x) + b_current))\n",
    "   \n",
    "    new_b = b_current - (learnRate * b_gradient)\n",
    "    new_m = m_current - (learnRate * m_gradient)\n",
    "    \n",
    "    return [new_b, new_m]\n",
    "\n",
    "    \n",
    "def gradient_descent_runner(points, start_b, start_m, learningRate, iteration):\n",
    "    b = start_b\n",
    "    m = start_m\n",
    "    \n",
    "    for  i in range(iteration):\n",
    "        b, m = step_gradient(b,m, array(points), learningRate)\n",
    "    return [b,m]\n",
    "\n",
    "def run():\n",
    "    points = genfromtxt('./data.csv', delimiter=',')\n",
    "    #hyper parameters\n",
    "    learning_rate = 0.0001\n",
    "    \n",
    "    initial_b = 0\n",
    "    initial_m = 0\n",
    "    \n",
    "    num_iteration = 1000\n",
    "    [b,m] = gradient_descent_runner(points, initial_b, initial_m, learning_rate, num_iteration )   \n",
    "    print(b)\n",
    "    print(m)\n"
   ]
  },
  {
   "cell_type": "code",
   "execution_count": 3,
   "metadata": {},
   "outputs": [
    {
     "name": "stdout",
     "output_type": "stream",
     "text": [
      "0.08893651993741346\n",
      "1.4777440851894448\n"
     ]
    }
   ],
   "source": [
    "run()"
   ]
  }
 ],
 "metadata": {
  "kernelspec": {
   "display_name": "Python 3",
   "language": "python",
   "name": "python3"
  },
  "language_info": {
   "codemirror_mode": {
    "name": "ipython",
    "version": 3
   },
   "file_extension": ".py",
   "mimetype": "text/x-python",
   "name": "python",
   "nbconvert_exporter": "python",
   "pygments_lexer": "ipython3",
   "version": "3.7.0"
  }
 },
 "nbformat": 4,
 "nbformat_minor": 2
}
